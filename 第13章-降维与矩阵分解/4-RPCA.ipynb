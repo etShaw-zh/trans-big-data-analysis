{
 "cells": [
  {
   "cell_type": "code",
   "execution_count": 358,
   "metadata": {
    "ExecuteTime": {
     "end_time": "2021-05-17T11:21:52.136517Z",
     "start_time": "2021-05-17T11:21:52.003367Z"
    }
   },
   "outputs": [
    {
     "data": {
      "image/png": "[encoded data removed]",
      "text/plain": [
       "<Figure size 432x288 with 2 Axes>"
      ]
     },
     "metadata": {
      "needs_background": "light"
     },
     "output_type": "display_data"
    }
   ],
   "source": [
    "#导入numpy包 \n",
    "import numpy as np\n",
    "#设置numpy的输出格式  \n",
    "np.set_printoptions(threshold=100,precision= 2,suppress=True)\n",
    "#定义测试数据\n",
    "M = np.array([[1,1,1,2,1],\n",
    "              [2,2,2,4,2],\n",
    "              [8,8,8,16,8],\n",
    "              [9,9,9,18,9],\n",
    "              [4,4,4,8,4], \n",
    "              [2,2,2,4,2]])+np.random.randn(6,5)\n",
    "plotM(M,M.max())"
   ]
  },
  {
   "cell_type": "code",
   "execution_count": 350,
   "metadata": {
    "ExecuteTime": {
     "end_time": "2021-05-17T11:19:06.013643Z",
     "start_time": "2021-05-17T11:19:05.879271Z"
    }
   },
   "outputs": [
    {
     "data": {
      "image/png": "[encoded data removed]",
      "text/plain": [
       "<Figure size 432x288 with 2 Axes>"
      ]
     },
     "metadata": {
      "needs_background": "light"
     },
     "output_type": "display_data"
    }
   ],
   "source": [
    "#定义可视化函数，方便后续矩阵绘制\n",
    "def plotM(M,vmax):\n",
    "    import matplotlib.pyplot as plt\n",
    "    #绘制矩阵\n",
    "    plt.imshow(M,vmin = -vmax,vmax = vmax,cmap = 'seismic')\n",
    "    #显示颜色的色标\n",
    "    plt.colorbar()\n",
    "    plt.show()\n",
    "plotM(M,M.max())"
   ]
  },
  {
   "cell_type": "code",
   "execution_count": 351,
   "metadata": {
    "ExecuteTime": {
     "end_time": "2021-05-17T11:19:06.789052Z",
     "start_time": "2021-05-17T11:19:06.501868Z"
    }
   },
   "outputs": [
    {
     "name": "stdout",
     "output_type": "stream",
     "text": [
      "迭代: 147, 误差: 3.658774774342701e-06\n"
     ]
    },
    {
     "data": {
      "image/png": "[encoded data removed]",
      "text/plain": [
       "<Figure size 432x288 with 2 Axes>"
      ]
     },
     "metadata": {
      "needs_background": "light"
     },
     "output_type": "display_data"
    },
    {
     "data": {
      "image/png": "[encoded data removed]",
      "text/plain": [
       "<Figure size 432x288 with 2 Axes>"
      ]
     },
     "metadata": {
      "needs_background": "light"
     },
     "output_type": "display_data"
    }
   ],
   "source": [
    "#该循环实现principal component pursuit (PCP)算法\n",
    "#算法在文章P29：https://arxiv.org/pdf/0912.3599.pdf\n",
    "#F范数\n",
    "def frobenius_norm(M):\n",
    "    return np.linalg.norm(M, ord='fro')\n",
    "#压缩算子\n",
    "def shrink(M, tau):\n",
    "    return np.sign(M) * np.maximum((np.abs(M) - tau), np.zeros(M.shape))\n",
    "#奇异值阈值\n",
    "def svd_threshold(M, tau):\n",
    "    U, S, V = np.linalg.svd(M, full_matrices=False)\n",
    "    return np.dot(U, np.dot(np.diag(shrink(S, tau)), V))\n",
    "#rpca求解\n",
    "def rpca(M,max_iter = 1000):\n",
    "    #初始化参数\n",
    "    S = np.zeros(M.shape)                                     #初始化稀疏矩阵S\n",
    "    Y = np.zeros(M.shape)\n",
    "    #设定两个拉格朗日乘子\n",
    "    lmbda = 1 / np.sqrt(np.max(M.shape))\n",
    "    mu = np.prod(M.shape) / (4 * np.linalg.norm(M, ord=1))\n",
    "    mu_inv = 1 / mu\n",
    "    tol = 1E-7 * frobenius_norm(M)                            #收敛判定容差\n",
    "    iter = 0                                                  #迭代次数\n",
    "    err = np.Inf                                              #与原始矩阵的误差，即N矩阵的傅里叶范数\n",
    "    Sk = S\n",
    "    Yk = Y\n",
    "    Lk = np.zeros(M.shape)\n",
    "    while (err > _tol) and (iter < max_iter):\n",
    "        Lk = svd_threshold(\n",
    "            M - Sk + mu_inv * Yk, mu_inv)                      #更新L矩阵\n",
    "        Sk = shrink(\n",
    "            M - Lk + (mu_inv * Yk), mu_inv * lmbda)            #更新S矩阵\n",
    "        Yk = Yk + mu * (M - Lk - Sk)                           #更新Y矩阵\n",
    "        err = frobenius_norm(M - Lk - Sk)\n",
    "        iter += 1\n",
    "        if (iter > max_iter) or (err <= tol):                      #收敛或达到最大迭代此时，输出迭代次数与误差\n",
    "            print('迭代: {0}, 误差: {1}'.format(iter, err))\n",
    "    L = Lk\n",
    "    S = Sk\n",
    "    return L,S\n",
    "\n",
    "#应用rpca求解\n",
    "L,S = rpca(M)\n",
    "\n",
    "#绘制求解结果\n",
    "plotM(L,M.max())\n",
    "plotM(S,M.max())"
   ]
  },
  {
   "cell_type": "code",
   "execution_count": 352,
   "metadata": {
    "ExecuteTime": {
     "end_time": "2021-05-17T11:19:08.626072Z",
     "start_time": "2021-05-17T11:19:08.620583Z"
    }
   },
   "outputs": [
    {
     "data": {
      "text/plain": [
       "array([[ 0.62,  0.48,  0.35,  1.09,  0.54],\n",
       "       [ 2.16,  2.03,  1.79,  4.08,  1.95],\n",
       "       [ 8.32,  8.36,  7.68, 16.19,  7.63],\n",
       "       [ 8.82,  8.84,  8.11, 17.14,  8.09],\n",
       "       [ 3.92,  3.28,  2.63,  7.08,  3.46],\n",
       "       [ 1.34,  1.72,  1.79,  2.91,  1.3 ]])"
      ]
     },
     "execution_count": 352,
     "metadata": {},
     "output_type": "execute_result"
    }
   ],
   "source": [
    "#低秩矩阵\n",
    "L"
   ]
  },
  {
   "cell_type": "code",
   "execution_count": 356,
   "metadata": {
    "ExecuteTime": {
     "end_time": "2021-05-17T11:19:21.165767Z",
     "start_time": "2021-05-17T11:19:21.157395Z"
    }
   },
   "outputs": [
    {
     "data": {
      "text/plain": [
       "array([35.3 ,  0.97,  0.  ,  0.  ,  0.  ])"
      ]
     },
     "execution_count": 356,
     "metadata": {},
     "output_type": "execute_result"
    }
   ],
   "source": [
    "#低秩矩阵的奇异值\n",
    "np.linalg.svd(L)[1]"
   ]
  },
  {
   "cell_type": "code",
   "execution_count": 357,
   "metadata": {
    "ExecuteTime": {
     "end_time": "2021-05-17T11:19:32.956634Z",
     "start_time": "2021-05-17T11:19:32.951173Z"
    }
   },
   "outputs": [
    {
     "data": {
      "text/plain": [
       "array([[ 0.  ,  0.83, -0.46,  0.  , -0.08],\n",
       "       [-2.12,  1.61, -0.85,  0.  ,  0.93],\n",
       "       [ 0.39,  0.  ,  0.  ,  0.14, -0.  ],\n",
       "       [ 0.  ,  0.  ,  1.17,  1.24,  0.77],\n",
       "       [ 0.23, -0.69, -0.92,  1.91,  0.  ],\n",
       "       [-0.72,  0.  ,  0.1 ,  0.  , -0.  ]])"
      ]
     },
     "execution_count": 357,
     "metadata": {},
     "output_type": "execute_result"
    }
   ],
   "source": [
    "#稀疏矩阵\n",
    "S"
   ]
  },
  {
   "cell_type": "code",
   "execution_count": 355,
   "metadata": {
    "ExecuteTime": {
     "end_time": "2021-05-17T11:19:10.460151Z",
     "start_time": "2021-05-17T11:19:10.454332Z"
    }
   },
   "outputs": [
    {
     "data": {
      "text/plain": [
       "array([[ 0.,  0., -0., -0.,  0.],\n",
       "       [ 0.,  0., -0., -0.,  0.],\n",
       "       [ 0., -0., -0.,  0.,  0.],\n",
       "       [-0.,  0.,  0.,  0.,  0.],\n",
       "       [ 0.,  0.,  0.,  0., -0.],\n",
       "       [-0., -0.,  0.,  0., -0.]])"
      ]
     },
     "execution_count": 355,
     "metadata": {},
     "output_type": "execute_result"
    }
   ],
   "source": [
    "#噪声矩阵\n",
    "N = M-L-S\n",
    "N"
   ]
  }
 ],
 "metadata": {
  "kernelspec": {
   "display_name": "Python 3",
   "language": "python",
   "name": "python3"
  },
  "language_info": {
   "codemirror_mode": {
    "name": "ipython",
    "version": 3
   },
   "file_extension": ".py",
   "mimetype": "text/x-python",
   "name": "python",
   "nbconvert_exporter": "python",
   "pygments_lexer": "ipython3",
   "version": "3.8.5"
  },
  "toc": {
   "base_numbering": 1,
   "nav_menu": {},
   "number_sections": true,
   "sideBar": true,
   "skip_h1_title": false,
   "title_cell": "Table of Contents",
   "title_sidebar": "Contents",
   "toc_cell": false,
   "toc_position": {},
   "toc_section_display": true,
   "toc_window_display": false
  }
 },
 "nbformat": 4,
 "nbformat_minor": 4
}
