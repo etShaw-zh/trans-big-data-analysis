{
 "cells": [
  {
   "cell_type": "markdown",
   "metadata": {},
   "source": [
    "# 创建测试数据"
   ]
  },
  {
   "cell_type": "code",
   "execution_count": 10,
   "metadata": {
    "ExecuteTime": {
     "end_time": "2021-05-25T10:42:23.495827Z",
     "start_time": "2021-05-25T10:42:23.488547Z"
    }
   },
   "outputs": [],
   "source": [
    "#导入numpy包 \n",
    "import numpy as np\n",
    "#设置numpy的输出格式  \n",
    "np.set_printoptions(threshold=100,precision= 2,suppress=True)\n",
    "#定义测试数据\n",
    "M = np.array([[1,1,1,2,1],\n",
    "              [2,3,2,4,2],\n",
    "              [8,8,8,16,8],\n",
    "              [9,9,9,12,9],\n",
    "              [4,4,4,8,4], \n",
    "              [2,2,2,4,2]])"
   ]
  },
  {
   "cell_type": "code",
   "execution_count": 12,
   "metadata": {
    "ExecuteTime": {
     "end_time": "2021-05-25T10:42:55.218639Z",
     "start_time": "2021-05-25T10:42:55.086727Z"
    }
   },
   "outputs": [
    {
     "data": {
      "image/png": "[encoded data removed]",
      "text/plain": [
       "<Figure size 432x288 with 2 Axes>"
      ]
     },
     "metadata": {
      "needs_background": "light"
     },
     "output_type": "display_data"
    }
   ],
   "source": [
    "#定义可视化函数，方便后续矩阵绘制\n",
    "def plotM(M,vmax):\n",
    "    import matplotlib.pyplot as plt\n",
    "    #绘制矩阵\n",
    "    plt.imshow(M,vmin = 0,vmax = vmax,cmap = 'Blues')\n",
    "    #显示颜色的色标\n",
    "    plt.colorbar()\n",
    "    plt.show()\n",
    "plotM(M,M.max())"
   ]
  },
  {
   "cell_type": "markdown",
   "metadata": {},
   "source": [
    "# SVD分解"
   ]
  },
  {
   "cell_type": "code",
   "execution_count": 143,
   "metadata": {
    "ExecuteTime": {
     "end_time": "2021-05-15T13:56:15.433939Z",
     "start_time": "2021-05-15T13:56:15.424527Z"
    }
   },
   "outputs": [
    {
     "data": {
      "text/plain": [
       "(array([[-0.08, -0.07, -0.02,  0.99,  0.01,  0.  ],\n",
       "        [-0.18, -0.04,  0.98,  0.  ,  0.  ,  0.  ],\n",
       "        [-0.66, -0.55, -0.14, -0.1 ,  0.49,  0.  ],\n",
       "        [-0.63,  0.77, -0.08, -0.  , -0.  ,  0.  ],\n",
       "        [-0.33, -0.27, -0.07, -0.04, -0.78, -0.45],\n",
       "        [-0.16, -0.14, -0.04, -0.02, -0.39,  0.89]]),\n",
       " array([34.26,  3.28,  0.85,  0.  ,  0.  ]),\n",
       " array([[-0.38,  0.33, -0.29,  0.82,  0.  ],\n",
       "        [-0.38,  0.31,  0.87,  0.  , -0.  ],\n",
       "        [-0.38,  0.33, -0.29, -0.41,  0.7 ],\n",
       "        [-0.65, -0.76, -0.01, -0.  , -0.  ],\n",
       "        [-0.38,  0.33, -0.29, -0.4 , -0.71]]))"
      ]
     },
     "execution_count": 143,
     "metadata": {},
     "output_type": "execute_result"
    }
   ],
   "source": [
    "#SVD分解\n",
    "U,vals,VT =np.linalg.svd(M)\n",
    "V = VT.T\n",
    "U,vals,V"
   ]
  },
  {
   "cell_type": "code",
   "execution_count": 144,
   "metadata": {
    "ExecuteTime": {
     "end_time": "2021-05-15T13:56:16.555107Z",
     "start_time": "2021-05-15T13:56:16.543663Z"
    }
   },
   "outputs": [
    {
     "data": {
      "text/plain": [
       "array([[34.26,  0.  ,  0.  ,  0.  ,  0.  ],\n",
       "       [ 0.  ,  3.28,  0.  ,  0.  ,  0.  ],\n",
       "       [ 0.  ,  0.  ,  0.85,  0.  ,  0.  ],\n",
       "       [ 0.  ,  0.  ,  0.  ,  0.  ,  0.  ],\n",
       "       [ 0.  ,  0.  ,  0.  ,  0.  ,  0.  ],\n",
       "       [ 0.  ,  0.  ,  0.  ,  0.  ,  0.  ]])"
      ]
     },
     "execution_count": 144,
     "metadata": {},
     "output_type": "execute_result"
    }
   ],
   "source": [
    "Sigma = np.array([[vals[0],0,0,0,0],\n",
    "                  [0,vals[1],0,0,0],\n",
    "                  [0,0,vals[2],0,0],\n",
    "                  [0,0,0,vals[3],0],\n",
    "                  [0,0,0,0,vals[4]],\n",
    "                  [0,0,0,0,0]])\n",
    "Sigma"
   ]
  },
  {
   "cell_type": "code",
   "execution_count": 145,
   "metadata": {
    "ExecuteTime": {
     "end_time": "2021-05-15T13:56:17.637799Z",
     "start_time": "2021-05-15T13:56:17.631278Z"
    }
   },
   "outputs": [
    {
     "data": {
      "text/plain": [
       "array([[ 1.,  1.,  1.,  2.,  1.],\n",
       "       [ 2.,  3.,  2.,  4.,  2.],\n",
       "       [ 8.,  8.,  8., 16.,  8.],\n",
       "       [ 9.,  9.,  9., 12.,  9.],\n",
       "       [ 4.,  4.,  4.,  8.,  4.],\n",
       "       [ 2.,  2.,  2.,  4.,  2.]])"
      ]
     },
     "execution_count": 145,
     "metadata": {},
     "output_type": "execute_result"
    }
   ],
   "source": [
    "#乘回去看看是不是能够构成原始矩阵\n",
    "M_=np.dot(np.dot(U,Sigma),V.T)\n",
    "M_"
   ]
  },
  {
   "cell_type": "markdown",
   "metadata": {},
   "source": [
    "# 可视化各模式"
   ]
  },
  {
   "cell_type": "code",
   "execution_count": 146,
   "metadata": {
    "ExecuteTime": {
     "end_time": "2021-05-15T13:59:24.652207Z",
     "start_time": "2021-05-15T13:59:24.519544Z"
    }
   },
   "outputs": [
    {
     "data": {
      "image/png": "[encoded data removed]",
      "text/plain": [
       "<Figure size 432x288 with 2 Axes>"
      ]
     },
     "metadata": {
      "needs_background": "light"
     },
     "output_type": "display_data"
    }
   ],
   "source": [
    "#绘制第一个模式重构的数据\n",
    "M1 = vals[0]*np.dot(U[:,0:1],V[:,0:1].T)\n",
    "#可视化出来\n",
    "plotM(M1,M.max())"
   ]
  },
  {
   "cell_type": "code",
   "execution_count": 157,
   "metadata": {
    "ExecuteTime": {
     "end_time": "2021-05-15T14:00:58.675598Z",
     "start_time": "2021-05-15T14:00:58.485303Z"
    }
   },
   "outputs": [
    {
     "data": {
      "image/png": "[encoded data removed]",
      "text/plain": [
       "<Figure size 1000x300 with 2 Axes>"
      ]
     },
     "metadata": {
      "needs_background": "light"
     },
     "output_type": "display_data"
    }
   ],
   "source": [
    "#对这两个向量绘制柱状图\n",
    "import matplotlib.pyplot as plt\n",
    "fig = plt.figure(1,(10,3),dpi = 100)\n",
    "#绘制u1向量的柱状图\n",
    "ax1 = plt.subplot(121)\n",
    "plt.sca(ax1)\n",
    "plt.bar(range(6),-U[:,0])\n",
    "plt.title('$u_1$')\n",
    "#绘制v1向量的柱状图\n",
    "ax2 = plt.subplot(122)\n",
    "plt.sca(ax2)\n",
    "plt.bar(range(5),-V[:,0])\n",
    "plt.title('$v_1$')\n",
    "plt.show()"
   ]
  },
  {
   "cell_type": "code",
   "execution_count": 148,
   "metadata": {
    "ExecuteTime": {
     "end_time": "2021-05-15T13:59:28.195167Z",
     "start_time": "2021-05-15T13:59:28.062571Z"
    }
   },
   "outputs": [
    {
     "data": {
      "image/png": "[encoded data removed]",
      "text/plain": [
       "<Figure size 432x288 with 2 Axes>"
      ]
     },
     "metadata": {
      "needs_background": "light"
     },
     "output_type": "display_data"
    }
   ],
   "source": [
    "#绘制第二个模式重构的数据\n",
    "M2 = vals[1]*np.dot(U[:,1:2],V[:,1:2].T)\n",
    "plotM(M2,M.max())"
   ]
  },
  {
   "cell_type": "code",
   "execution_count": 158,
   "metadata": {
    "ExecuteTime": {
     "end_time": "2021-05-15T14:01:10.078950Z",
     "start_time": "2021-05-15T14:01:09.904834Z"
    }
   },
   "outputs": [
    {
     "data": {
      "image/png": "[encoded data removed]",
      "text/plain": [
       "<Figure size 1000x300 with 2 Axes>"
      ]
     },
     "metadata": {
      "needs_background": "light"
     },
     "output_type": "display_data"
    }
   ],
   "source": [
    "import matplotlib.pyplot as plt\n",
    "fig = plt.figure(1,(10,3),dpi = 100)\n",
    "ax1 = plt.subplot(121)\n",
    "#绘制u2向量的柱状图\n",
    "plt.sca(ax1)\n",
    "plt.bar(range(6),-U[:,1])\n",
    "plt.title('$u_2$')\n",
    "#绘制v2向量的柱状图\n",
    "ax2 = plt.subplot(122)\n",
    "plt.sca(ax2)\n",
    "plt.bar(range(5),-V[:,1])\n",
    "plt.title('$v_2$')\n",
    "plt.show()"
   ]
  }
 ],
 "metadata": {
  "kernelspec": {
   "display_name": "Python 3",
   "language": "python",
   "name": "python3"
  },
  "language_info": {
   "codemirror_mode": {
    "name": "ipython",
    "version": 3
   },
   "file_extension": ".py",
   "mimetype": "text/x-python",
   "name": "python",
   "nbconvert_exporter": "python",
   "pygments_lexer": "ipython3",
   "version": "3.8.5"
  },
  "toc": {
   "base_numbering": 1,
   "nav_menu": {},
   "number_sections": true,
   "sideBar": true,
   "skip_h1_title": false,
   "title_cell": "Table of Contents",
   "title_sidebar": "Contents",
   "toc_cell": false,
   "toc_position": {},
   "toc_section_display": true,
   "toc_window_display": true
  }
 },
 "nbformat": 4,
 "nbformat_minor": 4
}
